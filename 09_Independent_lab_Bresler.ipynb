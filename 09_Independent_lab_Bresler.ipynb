{
 "cells": [
  {
   "cell_type": "markdown",
   "id": "3adee395-fa2e-4bf4-b74b-63569fd08d1f",
   "metadata": {},
   "source": [
    "UM MSBA - BGEN\n",
    "\n",
    "# Week 9 Independent Lab: Inferential Statistics\n",
    "---\n",
    "    Author: Ellery Bresler\n",
    "    Course: BGEN632 Grad. Intro. to Python\n",
    "    Term: Spring 2025\n",
    "    Date: April 28, 2025\n",
    "\n",
    "\n",
    "## \t&#x1f4bb; New System & Employee Usage &#x1f4bb;\n",
    "\n",
    "I will practice implementing statistical approaches in Python using the [ect_data.txt](/data/ect_data.txt) dataset. This dataset represents an assessment of employees’ adoption of a new system within an organization. Specifically, the dataset contains responses to questionnaire items about attitudes toward a system, intention to use a system, perceived usefulness of the system, and satisfaction with the system.\n",
    "\n",
    "#### Import Modules "
   ]
  },
  {
   "cell_type": "code",
   "execution_count": 1,
   "id": "5cfb8c59-1c80-4900-849e-a5522140d1fa",
   "metadata": {},
   "outputs": [],
   "source": [
    "import os\n",
    "import pandas as pd\n",
    "import numpy as np\n",
    "import matplotlib.pyplot as plt\n",
    "import scipy.stats as sts # for QQ plot\n",
    "from scipy.stats import pearsonr # correlation p-values\n",
    "from sklearn.linear_model import LinearRegression # regression output\n",
    "import statsmodels.formula.api as smf # ols regression"
   ]
  },
  {
   "cell_type": "markdown",
   "id": "f3d7118e-1880-4123-b547-2f8e1c2c438c",
   "metadata": {},
   "source": [
    "#### Set Working Directory & Accessing Data "
   ]
  },
  {
   "cell_type": "code",
   "execution_count": 2,
   "id": "8d0ca1d1-a57d-4662-909f-66eec65d92f2",
   "metadata": {},
   "outputs": [],
   "source": [
    "os.chdir(\"/Users/ElleryBresler/Documents/GitHub/week9labs/data\")  # change this to your filepath\n",
    "\n",
    "\n",
    "ect_data = pd.read_csv('ect_data.txt', delimiter='\\t')\n",
    "ect_data.to_csv('ect_data.csv', index=False)"
   ]
  },
  {
   "cell_type": "markdown",
   "id": "96bbd198-a581-41d0-b8f0-348e5ea03cf7",
   "metadata": {},
   "source": [
    "#### Linear and Multiple Regression\n",
    "* Using `intent1_01` as the target variable, create a regression model using only 5 of the other numerical variables\n",
    "  * Do not include `intent1_02`, `intent1_03`, and `intent1_04` as independent variables\n",
    "* Assess the validity of the assumptions of \n",
    "  * linearity,\n",
    "  * collinearity,\n",
    "  * homoscedasticity,\n",
    "  * independence,\n",
    "  * and normality.\n",
    "* Assess your model's F-test and T-tests. \n",
    "  * Which variables are significant? Based on what assessment? \n",
    "  * Choose two significant variables. From a business perspective, why are they significant?\n",
    "* Provide the equation for your model and interpret the results.\n"
   ]
  },
  {
   "cell_type": "code",
   "execution_count": 6,
   "id": "4f0831fa-3c81-46ab-bad1-8be41f2cd1ce",
   "metadata": {},
   "outputs": [
    {
     "name": "stdout",
     "output_type": "stream",
     "text": [
      "<class 'pandas.core.frame.DataFrame'>\n",
      "RangeIndex: 201 entries, 0 to 200\n",
      "Data columns (total 16 columns):\n",
      " #   Column        Non-Null Count  Dtype\n",
      "---  ------        --------------  -----\n",
      " 0   attitude1_01  201 non-null    int64\n",
      " 1   attitude1_02  201 non-null    int64\n",
      " 2   attitude1_03  201 non-null    int64\n",
      " 3   attitude1_04  201 non-null    int64\n",
      " 4   intent1_01    201 non-null    int64\n",
      " 5   intent1_02    201 non-null    int64\n",
      " 6   intent1_03    201 non-null    int64\n",
      " 7   intent1_04    201 non-null    int64\n",
      " 8   peruse01      201 non-null    int64\n",
      " 9   peruse02      201 non-null    int64\n",
      " 10  peruse03      201 non-null    int64\n",
      " 11  peruse04      201 non-null    int64\n",
      " 12  satis01       201 non-null    int64\n",
      " 13  satis02       201 non-null    int64\n",
      " 14  satis03       201 non-null    int64\n",
      " 15  satis04       201 non-null    int64\n",
      "dtypes: int64(16)\n",
      "memory usage: 25.3 KB\n"
     ]
    }
   ],
   "source": [
    "ect_data.info()#getting basic information about file"
   ]
  },
  {
   "cell_type": "code",
   "execution_count": 7,
   "id": "0dfc1afa-1b9c-4bdd-967b-2e8ada582096",
   "metadata": {},
   "outputs": [
    {
     "data": {
      "text/html": [
       "<table class=\"simpletable\">\n",
       "<caption>OLS Regression Results</caption>\n",
       "<tr>\n",
       "  <th>Dep. Variable:</th>       <td>intent1_01</td>    <th>  R-squared:         </th> <td>   0.536</td>\n",
       "</tr>\n",
       "<tr>\n",
       "  <th>Model:</th>                   <td>OLS</td>       <th>  Adj. R-squared:    </th> <td>   0.524</td>\n",
       "</tr>\n",
       "<tr>\n",
       "  <th>Method:</th>             <td>Least Squares</td>  <th>  F-statistic:       </th> <td>   45.01</td>\n",
       "</tr>\n",
       "<tr>\n",
       "  <th>Date:</th>             <td>Mon, 28 Apr 2025</td> <th>  Prob (F-statistic):</th> <td>9.38e-31</td>\n",
       "</tr>\n",
       "<tr>\n",
       "  <th>Time:</th>                 <td>21:25:53</td>     <th>  Log-Likelihood:    </th> <td> -211.54</td>\n",
       "</tr>\n",
       "<tr>\n",
       "  <th>No. Observations:</th>      <td>   201</td>      <th>  AIC:               </th> <td>   435.1</td>\n",
       "</tr>\n",
       "<tr>\n",
       "  <th>Df Residuals:</th>          <td>   195</td>      <th>  BIC:               </th> <td>   454.9</td>\n",
       "</tr>\n",
       "<tr>\n",
       "  <th>Df Model:</th>              <td>     5</td>      <th>                     </th>     <td> </td>   \n",
       "</tr>\n",
       "<tr>\n",
       "  <th>Covariance Type:</th>      <td>nonrobust</td>    <th>                     </th>     <td> </td>   \n",
       "</tr>\n",
       "</table>\n",
       "<table class=\"simpletable\">\n",
       "<tr>\n",
       "        <td></td>          <th>coef</th>     <th>std err</th>      <th>t</th>      <th>P>|t|</th>  <th>[0.025</th>    <th>0.975]</th>  \n",
       "</tr>\n",
       "<tr>\n",
       "  <th>Intercept</th>    <td>    0.9931</td> <td>    0.354</td> <td>    2.808</td> <td> 0.005</td> <td>    0.296</td> <td>    1.691</td>\n",
       "</tr>\n",
       "<tr>\n",
       "  <th>attitude1_01</th> <td>    0.3127</td> <td>    0.095</td> <td>    3.285</td> <td> 0.001</td> <td>    0.125</td> <td>    0.500</td>\n",
       "</tr>\n",
       "<tr>\n",
       "  <th>attitude1_02</th> <td>    0.1529</td> <td>    0.076</td> <td>    2.014</td> <td> 0.045</td> <td>    0.003</td> <td>    0.303</td>\n",
       "</tr>\n",
       "<tr>\n",
       "  <th>peruse01</th>     <td>    0.2427</td> <td>    0.072</td> <td>    3.374</td> <td> 0.001</td> <td>    0.101</td> <td>    0.385</td>\n",
       "</tr>\n",
       "<tr>\n",
       "  <th>peruse02</th>     <td>   -0.0165</td> <td>    0.066</td> <td>   -0.250</td> <td> 0.803</td> <td>   -0.147</td> <td>    0.114</td>\n",
       "</tr>\n",
       "<tr>\n",
       "  <th>satis01</th>      <td>    0.1885</td> <td>    0.056</td> <td>    3.378</td> <td> 0.001</td> <td>    0.078</td> <td>    0.299</td>\n",
       "</tr>\n",
       "</table>\n",
       "<table class=\"simpletable\">\n",
       "<tr>\n",
       "  <th>Omnibus:</th>       <td>62.562</td> <th>  Durbin-Watson:     </th> <td>   1.934</td>\n",
       "</tr>\n",
       "<tr>\n",
       "  <th>Prob(Omnibus):</th> <td> 0.000</td> <th>  Jarque-Bera (JB):  </th> <td> 299.131</td>\n",
       "</tr>\n",
       "<tr>\n",
       "  <th>Skew:</th>          <td>-1.101</td> <th>  Prob(JB):          </th> <td>1.11e-65</td>\n",
       "</tr>\n",
       "<tr>\n",
       "  <th>Kurtosis:</th>      <td> 8.556</td> <th>  Cond. No.          </th> <td>    94.8</td>\n",
       "</tr>\n",
       "</table><br/><br/>Notes:<br/>[1] Standard Errors assume that the covariance matrix of the errors is correctly specified."
      ],
      "text/latex": [
       "\\begin{center}\n",
       "\\begin{tabular}{lclc}\n",
       "\\toprule\n",
       "\\textbf{Dep. Variable:}    &   intent1\\_01    & \\textbf{  R-squared:         } &     0.536   \\\\\n",
       "\\textbf{Model:}            &       OLS        & \\textbf{  Adj. R-squared:    } &     0.524   \\\\\n",
       "\\textbf{Method:}           &  Least Squares   & \\textbf{  F-statistic:       } &     45.01   \\\\\n",
       "\\textbf{Date:}             & Mon, 28 Apr 2025 & \\textbf{  Prob (F-statistic):} &  9.38e-31   \\\\\n",
       "\\textbf{Time:}             &     21:25:53     & \\textbf{  Log-Likelihood:    } &   -211.54   \\\\\n",
       "\\textbf{No. Observations:} &         201      & \\textbf{  AIC:               } &     435.1   \\\\\n",
       "\\textbf{Df Residuals:}     &         195      & \\textbf{  BIC:               } &     454.9   \\\\\n",
       "\\textbf{Df Model:}         &           5      & \\textbf{                     } &             \\\\\n",
       "\\textbf{Covariance Type:}  &    nonrobust     & \\textbf{                     } &             \\\\\n",
       "\\bottomrule\n",
       "\\end{tabular}\n",
       "\\begin{tabular}{lcccccc}\n",
       "                       & \\textbf{coef} & \\textbf{std err} & \\textbf{t} & \\textbf{P$> |$t$|$} & \\textbf{[0.025} & \\textbf{0.975]}  \\\\\n",
       "\\midrule\n",
       "\\textbf{Intercept}     &       0.9931  &        0.354     &     2.808  &         0.005        &        0.296    &        1.691     \\\\\n",
       "\\textbf{attitude1\\_01} &       0.3127  &        0.095     &     3.285  &         0.001        &        0.125    &        0.500     \\\\\n",
       "\\textbf{attitude1\\_02} &       0.1529  &        0.076     &     2.014  &         0.045        &        0.003    &        0.303     \\\\\n",
       "\\textbf{peruse01}      &       0.2427  &        0.072     &     3.374  &         0.001        &        0.101    &        0.385     \\\\\n",
       "\\textbf{peruse02}      &      -0.0165  &        0.066     &    -0.250  &         0.803        &       -0.147    &        0.114     \\\\\n",
       "\\textbf{satis01}       &       0.1885  &        0.056     &     3.378  &         0.001        &        0.078    &        0.299     \\\\\n",
       "\\bottomrule\n",
       "\\end{tabular}\n",
       "\\begin{tabular}{lclc}\n",
       "\\textbf{Omnibus:}       & 62.562 & \\textbf{  Durbin-Watson:     } &    1.934  \\\\\n",
       "\\textbf{Prob(Omnibus):} &  0.000 & \\textbf{  Jarque-Bera (JB):  } &  299.131  \\\\\n",
       "\\textbf{Skew:}          & -1.101 & \\textbf{  Prob(JB):          } & 1.11e-65  \\\\\n",
       "\\textbf{Kurtosis:}      &  8.556 & \\textbf{  Cond. No.          } &     94.8  \\\\\n",
       "\\bottomrule\n",
       "\\end{tabular}\n",
       "%\\caption{OLS Regression Results}\n",
       "\\end{center}\n",
       "\n",
       "Notes: \\newline\n",
       " [1] Standard Errors assume that the covariance matrix of the errors is correctly specified."
      ],
      "text/plain": [
       "<class 'statsmodels.iolib.summary.Summary'>\n",
       "\"\"\"\n",
       "                            OLS Regression Results                            \n",
       "==============================================================================\n",
       "Dep. Variable:             intent1_01   R-squared:                       0.536\n",
       "Model:                            OLS   Adj. R-squared:                  0.524\n",
       "Method:                 Least Squares   F-statistic:                     45.01\n",
       "Date:                Mon, 28 Apr 2025   Prob (F-statistic):           9.38e-31\n",
       "Time:                        21:25:53   Log-Likelihood:                -211.54\n",
       "No. Observations:                 201   AIC:                             435.1\n",
       "Df Residuals:                     195   BIC:                             454.9\n",
       "Df Model:                           5                                         \n",
       "Covariance Type:            nonrobust                                         \n",
       "================================================================================\n",
       "                   coef    std err          t      P>|t|      [0.025      0.975]\n",
       "--------------------------------------------------------------------------------\n",
       "Intercept        0.9931      0.354      2.808      0.005       0.296       1.691\n",
       "attitude1_01     0.3127      0.095      3.285      0.001       0.125       0.500\n",
       "attitude1_02     0.1529      0.076      2.014      0.045       0.003       0.303\n",
       "peruse01         0.2427      0.072      3.374      0.001       0.101       0.385\n",
       "peruse02        -0.0165      0.066     -0.250      0.803      -0.147       0.114\n",
       "satis01          0.1885      0.056      3.378      0.001       0.078       0.299\n",
       "==============================================================================\n",
       "Omnibus:                       62.562   Durbin-Watson:                   1.934\n",
       "Prob(Omnibus):                  0.000   Jarque-Bera (JB):              299.131\n",
       "Skew:                          -1.101   Prob(JB):                     1.11e-65\n",
       "Kurtosis:                       8.556   Cond. No.                         94.8\n",
       "==============================================================================\n",
       "\n",
       "Notes:\n",
       "[1] Standard Errors assume that the covariance matrix of the errors is correctly specified.\n",
       "\"\"\""
      ]
     },
     "execution_count": 7,
     "metadata": {},
     "output_type": "execute_result"
    }
   ],
   "source": [
    "lin_reg_2 = smf.ols('intent1_01 ~ attitude1_01 + attitude1_02 + peruse01 + peruse02 + satis01', ect_data).fit()\n",
    "\n",
    "lin_reg_2.summary()"
   ]
  },
  {
   "cell_type": "markdown",
   "id": "4eb2f31d-889e-4f7e-856f-53bb620bfc6f",
   "metadata": {
    "jp-MarkdownHeadingCollapsed": true
   },
   "source": [
    "##### Assess Linearity "
   ]
  },
  {
   "cell_type": "code",
   "execution_count": 13,
   "id": "5c765991-2ba1-41c9-9f91-112c8ae1e974",
   "metadata": {},
   "outputs": [
    {
     "data": {
      "text/plain": [
       "<Axes: xlabel='attitude1_01', ylabel='intent1_01'>"
      ]
     },
     "execution_count": 13,
     "metadata": {},
     "output_type": "execute_result"
    },
    {
     "data": {
      "image/png": "[encoded data removed]",
      "text/plain": [
       "<Figure size 640x480 with 1 Axes>"
      ]
     },
     "metadata": {},
     "output_type": "display_data"
    }
   ],
   "source": [
    "ect_data.plot.scatter(x='attitude1_01', y='intent1_01')"
   ]
  },
  {
   "cell_type": "code",
   "execution_count": 14,
   "id": "7cb0e759-78e0-445a-a428-eab67d72bd69",
   "metadata": {},
   "outputs": [
    {
     "data": {
      "text/plain": [
       "<Axes: xlabel='attitude1_02', ylabel='intent1_01'>"
      ]
     },
     "execution_count": 14,
     "metadata": {},
     "output_type": "execute_result"
    },
    {
     "data": {
      "image/png": "[encoded data removed]",
      "text/plain": [
       "<Figure size 640x480 with 1 Axes>"
      ]
     },
     "metadata": {},
     "output_type": "display_data"
    }
   ],
   "source": [
    "ect_data.plot.scatter(x='attitude1_02', y='intent1_01')"
   ]
  },
  {
   "cell_type": "code",
   "execution_count": 15,
   "id": "a80045f1-3c78-47ae-abfc-52aac7bbfc28",
   "metadata": {},
   "outputs": [
    {
     "data": {
      "text/plain": [
       "<Axes: xlabel='peruse01', ylabel='intent1_01'>"
      ]
     },
     "execution_count": 15,
     "metadata": {},
     "output_type": "execute_result"
    },
    {
     "data": {
      "image/png": "[encoded data removed]",
      "text/plain": [
       "<Figure size 640x480 with 1 Axes>"
      ]
     },
     "metadata": {},
     "output_type": "display_data"
    }
   ],
   "source": [
    "ect_data.plot.scatter(x='peruse01', y='intent1_01')"
   ]
  },
  {
   "cell_type": "code",
   "execution_count": 16,
   "id": "d16b829b-c93e-40e8-84a1-b4e8874f28bf",
   "metadata": {},
   "outputs": [
    {
     "data": {
      "text/plain": [
       "<Axes: xlabel='peruse02', ylabel='intent1_01'>"
      ]
     },
     "execution_count": 16,
     "metadata": {},
     "output_type": "execute_result"
    },
    {
     "data": {
      "image/png": "[encoded data removed]",
      "text/plain": [
       "<Figure size 640x480 with 1 Axes>"
      ]
     },
     "metadata": {},
     "output_type": "display_data"
    }
   ],
   "source": [
    "ect_data.plot.scatter(x='peruse02', y='intent1_01')"
   ]
  },
  {
   "cell_type": "code",
   "execution_count": 17,
   "id": "18f68f72-8be4-4b8d-a20a-b67e1c6bbf2f",
   "metadata": {},
   "outputs": [
    {
     "data": {
      "text/plain": [
       "<Axes: xlabel='satis01', ylabel='intent1_01'>"
      ]
     },
     "execution_count": 17,
     "metadata": {},
     "output_type": "execute_result"
    },
    {
     "data": {
      "image/png": "[encoded data removed]",
      "text/plain": [
       "<Figure size 640x480 with 1 Axes>"
      ]
     },
     "metadata": {},
     "output_type": "display_data"
    }
   ],
   "source": [
    "ect_data.plot.scatter(x='satis01', y='intent1_01')"
   ]
  },
  {
   "cell_type": "markdown",
   "id": "b7d91010-f36f-41cc-a0b5-c347910a04a1",
   "metadata": {},
   "source": [
    "##### Assess Collinearity"
   ]
  },
  {
   "cell_type": "code",
   "execution_count": 21,
   "id": "dc6a22ff-7702-4e34-8dc2-c82938577aa5",
   "metadata": {},
   "outputs": [
    {
     "name": "stdout",
     "output_type": "stream",
     "text": [
      "VIF attitude1_01:  3.2040269048172405 \n",
      "VIF attitude1_02:  2.6810446541605515 \n",
      "VIF peruse01:  2.4208245725887365 \n",
      "VIF peruse02:  2.6395332556541997 \n",
      "VIF satis01:  1.5728091474118788\n"
     ]
    }
   ],
   "source": [
    "# use the sklearn library for regression\n",
    "lin_reg_1 = LinearRegression(fit_intercept=True)\n",
    "\n",
    "# calculate VIF for attitude1_01\n",
    "lin_reg_1.fit(ect_data[['attitude1_02', 'peruse01', 'peruse02', 'satis01']], ect_data.attitude1_01)\n",
    "vif1 = 1/(1 - lin_reg_1.score(ect_data[['attitude1_02', 'peruse01', 'peruse02', 'satis01']], ect_data.attitude1_01))\n",
    "\n",
    "# calculate VIF for attitude1_02\n",
    "lin_reg_1.fit(ect_data[['attitude1_01', 'peruse01', 'peruse02', 'satis01']], ect_data.attitude1_02)\n",
    "vif2 = 1/(1 - lin_reg_1.score(ect_data[['attitude1_01', 'peruse01', 'peruse02', 'satis01']], ect_data.attitude1_02))\n",
    "\n",
    "# calculate VIF for peruse01\n",
    "lin_reg_1.fit(ect_data[['attitude1_01', 'attitude1_02', 'peruse02', 'satis01']], ect_data.peruse01)\n",
    "vif3 = 1/(1 - lin_reg_1.score(ect_data[['attitude1_01', 'attitude1_02', 'peruse02', 'satis01']], ect_data.peruse01))\n",
    "\n",
    "# calculate VIF for peruse02\n",
    "lin_reg_1.fit(ect_data[['attitude1_01', 'attitude1_02', 'peruse01', 'satis01']], ect_data.peruse02)\n",
    "vif4 = 1/(1 - lin_reg_1.score(ect_data[['attitude1_01', 'attitude1_02', 'peruse01', 'satis01']], ect_data.peruse02))\n",
    "\n",
    "# calculate VIF for satis01\n",
    "lin_reg_1.fit(ect_data[['attitude1_01', 'attitude1_02', 'peruse01', 'peruse02']], ect_data.satis01)\n",
    "vif5 = 1/(1 - lin_reg_1.score(ect_data[['attitude1_01', 'attitude1_02', 'peruse01', 'peruse02']], ect_data.satis01))\n",
    "\n",
    "# output VIF scores\n",
    "print('VIF attitude1_01: ', vif1,\n",
    "        '\\nVIF attitude1_02: ', vif2,\n",
    "        '\\nVIF peruse01: ', vif3,\n",
    "        '\\nVIF peruse02: ', vif4,\n",
    "        '\\nVIF satis01: ', vif5)"
   ]
  },
  {
   "cell_type": "markdown",
   "id": "a2c925fa-bdf1-4b32-8bf6-4a990d3d0ede",
   "metadata": {},
   "source": [
    "##### Assess homoscedasticity"
   ]
  },
  {
   "cell_type": "code",
   "execution_count": 25,
   "id": "cfcdb6bb-8b19-4a5f-9414-4df6850934cc",
   "metadata": {},
   "outputs": [
    {
     "data": {
      "image/png": "[encoded data removed]",
      "text/plain": [
       "<Figure size 640x480 with 1 Axes>"
      ]
     },
     "metadata": {},
     "output_type": "display_data"
    }
   ],
   "source": [
    "lin_reg_2 = smf.ols('intent1_01 ~ attitude1_01 + attitude1_02 + peruse01 + peruse02 + satis01', ect_data).fit()\n",
    "\n",
    "# assess homoscedasticity\n",
    "plt.scatter(lin_reg_2.fittedvalues, lin_reg_2.resid)\n",
    "plt.xlabel('Predicted/Fitted Values')\n",
    "plt.ylabel('Residual Values')\n",
    "plt.title('Assessing Homoscedasticity')\n",
    "plt.plot([2, 8],[0, 0], 'red', lw=2)   # add red horizontal line\n",
    "plt.show()"
   ]
  },
  {
   "cell_type": "markdown",
   "id": "668997a8-0c2d-4cf7-b1be-2ab4d03b6c83",
   "metadata": {},
   "source": [
    "##### Assess Independence"
   ]
  },
  {
   "cell_type": "code",
   "execution_count": 26,
   "id": "9ceeb198-559e-4564-afb7-d0efd00e0e34",
   "metadata": {},
   "outputs": [
    {
     "data": {
      "text/html": [
       "<table class=\"simpletable\">\n",
       "<caption>OLS Regression Results</caption>\n",
       "<tr>\n",
       "  <th>Dep. Variable:</th>       <td>intent1_01</td>    <th>  R-squared:         </th> <td>   0.536</td>\n",
       "</tr>\n",
       "<tr>\n",
       "  <th>Model:</th>                   <td>OLS</td>       <th>  Adj. R-squared:    </th> <td>   0.524</td>\n",
       "</tr>\n",
       "<tr>\n",
       "  <th>Method:</th>             <td>Least Squares</td>  <th>  F-statistic:       </th> <td>   45.01</td>\n",
       "</tr>\n",
       "<tr>\n",
       "  <th>Date:</th>             <td>Mon, 28 Apr 2025</td> <th>  Prob (F-statistic):</th> <td>9.38e-31</td>\n",
       "</tr>\n",
       "<tr>\n",
       "  <th>Time:</th>                 <td>21:59:01</td>     <th>  Log-Likelihood:    </th> <td> -211.54</td>\n",
       "</tr>\n",
       "<tr>\n",
       "  <th>No. Observations:</th>      <td>   201</td>      <th>  AIC:               </th> <td>   435.1</td>\n",
       "</tr>\n",
       "<tr>\n",
       "  <th>Df Residuals:</th>          <td>   195</td>      <th>  BIC:               </th> <td>   454.9</td>\n",
       "</tr>\n",
       "<tr>\n",
       "  <th>Df Model:</th>              <td>     5</td>      <th>                     </th>     <td> </td>   \n",
       "</tr>\n",
       "<tr>\n",
       "  <th>Covariance Type:</th>      <td>nonrobust</td>    <th>                     </th>     <td> </td>   \n",
       "</tr>\n",
       "</table>\n",
       "<table class=\"simpletable\">\n",
       "<tr>\n",
       "        <td></td>          <th>coef</th>     <th>std err</th>      <th>t</th>      <th>P>|t|</th>  <th>[0.025</th>    <th>0.975]</th>  \n",
       "</tr>\n",
       "<tr>\n",
       "  <th>Intercept</th>    <td>    0.9931</td> <td>    0.354</td> <td>    2.808</td> <td> 0.005</td> <td>    0.296</td> <td>    1.691</td>\n",
       "</tr>\n",
       "<tr>\n",
       "  <th>attitude1_01</th> <td>    0.3127</td> <td>    0.095</td> <td>    3.285</td> <td> 0.001</td> <td>    0.125</td> <td>    0.500</td>\n",
       "</tr>\n",
       "<tr>\n",
       "  <th>attitude1_02</th> <td>    0.1529</td> <td>    0.076</td> <td>    2.014</td> <td> 0.045</td> <td>    0.003</td> <td>    0.303</td>\n",
       "</tr>\n",
       "<tr>\n",
       "  <th>peruse01</th>     <td>    0.2427</td> <td>    0.072</td> <td>    3.374</td> <td> 0.001</td> <td>    0.101</td> <td>    0.385</td>\n",
       "</tr>\n",
       "<tr>\n",
       "  <th>peruse02</th>     <td>   -0.0165</td> <td>    0.066</td> <td>   -0.250</td> <td> 0.803</td> <td>   -0.147</td> <td>    0.114</td>\n",
       "</tr>\n",
       "<tr>\n",
       "  <th>satis01</th>      <td>    0.1885</td> <td>    0.056</td> <td>    3.378</td> <td> 0.001</td> <td>    0.078</td> <td>    0.299</td>\n",
       "</tr>\n",
       "</table>\n",
       "<table class=\"simpletable\">\n",
       "<tr>\n",
       "  <th>Omnibus:</th>       <td>62.562</td> <th>  Durbin-Watson:     </th> <td>   1.934</td>\n",
       "</tr>\n",
       "<tr>\n",
       "  <th>Prob(Omnibus):</th> <td> 0.000</td> <th>  Jarque-Bera (JB):  </th> <td> 299.131</td>\n",
       "</tr>\n",
       "<tr>\n",
       "  <th>Skew:</th>          <td>-1.101</td> <th>  Prob(JB):          </th> <td>1.11e-65</td>\n",
       "</tr>\n",
       "<tr>\n",
       "  <th>Kurtosis:</th>      <td> 8.556</td> <th>  Cond. No.          </th> <td>    94.8</td>\n",
       "</tr>\n",
       "</table><br/><br/>Notes:<br/>[1] Standard Errors assume that the covariance matrix of the errors is correctly specified."
      ],
      "text/latex": [
       "\\begin{center}\n",
       "\\begin{tabular}{lclc}\n",
       "\\toprule\n",
       "\\textbf{Dep. Variable:}    &   intent1\\_01    & \\textbf{  R-squared:         } &     0.536   \\\\\n",
       "\\textbf{Model:}            &       OLS        & \\textbf{  Adj. R-squared:    } &     0.524   \\\\\n",
       "\\textbf{Method:}           &  Least Squares   & \\textbf{  F-statistic:       } &     45.01   \\\\\n",
       "\\textbf{Date:}             & Mon, 28 Apr 2025 & \\textbf{  Prob (F-statistic):} &  9.38e-31   \\\\\n",
       "\\textbf{Time:}             &     21:59:01     & \\textbf{  Log-Likelihood:    } &   -211.54   \\\\\n",
       "\\textbf{No. Observations:} &         201      & \\textbf{  AIC:               } &     435.1   \\\\\n",
       "\\textbf{Df Residuals:}     &         195      & \\textbf{  BIC:               } &     454.9   \\\\\n",
       "\\textbf{Df Model:}         &           5      & \\textbf{                     } &             \\\\\n",
       "\\textbf{Covariance Type:}  &    nonrobust     & \\textbf{                     } &             \\\\\n",
       "\\bottomrule\n",
       "\\end{tabular}\n",
       "\\begin{tabular}{lcccccc}\n",
       "                       & \\textbf{coef} & \\textbf{std err} & \\textbf{t} & \\textbf{P$> |$t$|$} & \\textbf{[0.025} & \\textbf{0.975]}  \\\\\n",
       "\\midrule\n",
       "\\textbf{Intercept}     &       0.9931  &        0.354     &     2.808  &         0.005        &        0.296    &        1.691     \\\\\n",
       "\\textbf{attitude1\\_01} &       0.3127  &        0.095     &     3.285  &         0.001        &        0.125    &        0.500     \\\\\n",
       "\\textbf{attitude1\\_02} &       0.1529  &        0.076     &     2.014  &         0.045        &        0.003    &        0.303     \\\\\n",
       "\\textbf{peruse01}      &       0.2427  &        0.072     &     3.374  &         0.001        &        0.101    &        0.385     \\\\\n",
       "\\textbf{peruse02}      &      -0.0165  &        0.066     &    -0.250  &         0.803        &       -0.147    &        0.114     \\\\\n",
       "\\textbf{satis01}       &       0.1885  &        0.056     &     3.378  &         0.001        &        0.078    &        0.299     \\\\\n",
       "\\bottomrule\n",
       "\\end{tabular}\n",
       "\\begin{tabular}{lclc}\n",
       "\\textbf{Omnibus:}       & 62.562 & \\textbf{  Durbin-Watson:     } &    1.934  \\\\\n",
       "\\textbf{Prob(Omnibus):} &  0.000 & \\textbf{  Jarque-Bera (JB):  } &  299.131  \\\\\n",
       "\\textbf{Skew:}          & -1.101 & \\textbf{  Prob(JB):          } & 1.11e-65  \\\\\n",
       "\\textbf{Kurtosis:}      &  8.556 & \\textbf{  Cond. No.          } &     94.8  \\\\\n",
       "\\bottomrule\n",
       "\\end{tabular}\n",
       "%\\caption{OLS Regression Results}\n",
       "\\end{center}\n",
       "\n",
       "Notes: \\newline\n",
       " [1] Standard Errors assume that the covariance matrix of the errors is correctly specified."
      ],
      "text/plain": [
       "<class 'statsmodels.iolib.summary.Summary'>\n",
       "\"\"\"\n",
       "                            OLS Regression Results                            \n",
       "==============================================================================\n",
       "Dep. Variable:             intent1_01   R-squared:                       0.536\n",
       "Model:                            OLS   Adj. R-squared:                  0.524\n",
       "Method:                 Least Squares   F-statistic:                     45.01\n",
       "Date:                Mon, 28 Apr 2025   Prob (F-statistic):           9.38e-31\n",
       "Time:                        21:59:01   Log-Likelihood:                -211.54\n",
       "No. Observations:                 201   AIC:                             435.1\n",
       "Df Residuals:                     195   BIC:                             454.9\n",
       "Df Model:                           5                                         \n",
       "Covariance Type:            nonrobust                                         \n",
       "================================================================================\n",
       "                   coef    std err          t      P>|t|      [0.025      0.975]\n",
       "--------------------------------------------------------------------------------\n",
       "Intercept        0.9931      0.354      2.808      0.005       0.296       1.691\n",
       "attitude1_01     0.3127      0.095      3.285      0.001       0.125       0.500\n",
       "attitude1_02     0.1529      0.076      2.014      0.045       0.003       0.303\n",
       "peruse01         0.2427      0.072      3.374      0.001       0.101       0.385\n",
       "peruse02        -0.0165      0.066     -0.250      0.803      -0.147       0.114\n",
       "satis01          0.1885      0.056      3.378      0.001       0.078       0.299\n",
       "==============================================================================\n",
       "Omnibus:                       62.562   Durbin-Watson:                   1.934\n",
       "Prob(Omnibus):                  0.000   Jarque-Bera (JB):              299.131\n",
       "Skew:                          -1.101   Prob(JB):                     1.11e-65\n",
       "Kurtosis:                       8.556   Cond. No.                         94.8\n",
       "==============================================================================\n",
       "\n",
       "Notes:\n",
       "[1] Standard Errors assume that the covariance matrix of the errors is correctly specified.\n",
       "\"\"\""
      ]
     },
     "execution_count": 26,
     "metadata": {},
     "output_type": "execute_result"
    }
   ],
   "source": [
    "lin_reg_2.summary()"
   ]
  },
  {
   "cell_type": "markdown",
   "id": "452c5ae0-beee-40c2-82ca-170b8f9c37d9",
   "metadata": {},
   "source": [
    "##### Assess Normality"
   ]
  },
  {
   "cell_type": "code",
   "execution_count": 27,
   "id": "abb99df8-266b-4368-a9ab-d388a8448ab5",
   "metadata": {},
   "outputs": [
    {
     "data": {
      "text/plain": [
       "((array([-2.70235077, -2.39300644, -2.21670641, -2.09047253, -1.99075721,\n",
       "         -1.90762425, -1.83590295, -1.77254445, -1.71559368, -1.66371874,\n",
       "         -1.61596971, -1.57164427, -1.53020786, -1.49124379, -1.45442067,\n",
       "         -1.41947039, -1.38617282, -1.35434495, -1.32383285, -1.29450578,\n",
       "         -1.26625169, -1.2389738 , -1.21258791, -1.18702027, -1.1622059 ,\n",
       "         -1.13808725, -1.11461308, -1.09173755, -1.06941949, -1.04762177,\n",
       "         -1.02631079, -1.005456  , -0.98502958, -0.96500611, -0.94536226,\n",
       "         -0.92607659, -0.90712937, -0.88850233, -0.87017859, -0.85214246,\n",
       "         -0.83437937, -0.81687572, -0.79961884, -0.78259687, -0.76579869,\n",
       "         -0.74921388, -0.73283263, -0.71664571, -0.70064443, -0.68482057,\n",
       "         -0.66916635, -0.65367443, -0.63833783, -0.62314992, -0.60810442,\n",
       "         -0.59319534, -0.57841696, -0.56376385, -0.5492308 , -0.53481284,\n",
       "         -0.52050522, -0.50630336, -0.49220289, -0.47819962, -0.4642895 ,\n",
       "         -0.45046865, -0.43673331, -0.42307988, -0.40950487, -0.39600491,\n",
       "         -0.38257674, -0.3692172 , -0.35592325, -0.3426919 , -0.32952028,\n",
       "         -0.31640558, -0.30334508, -0.29033612, -0.27737611, -0.26446253,\n",
       "         -0.2515929 , -0.23876481, -0.22597589, -0.21322383, -0.20050634,\n",
       "         -0.18782121, -0.17516622, -0.16253923, -0.1499381 , -0.13736074,\n",
       "         -0.12480507, -0.11226904, -0.09975064, -0.08724784, -0.07475867,\n",
       "         -0.06228115, -0.04981332, -0.03735323, -0.02489894, -0.0124485 ,\n",
       "          0.        ,  0.0124485 ,  0.02489894,  0.03735323,  0.04981332,\n",
       "          0.06228115,  0.07475867,  0.08724784,  0.09975064,  0.11226904,\n",
       "          0.12480507,  0.13736074,  0.1499381 ,  0.16253923,  0.17516622,\n",
       "          0.18782121,  0.20050634,  0.21322383,  0.22597589,  0.23876481,\n",
       "          0.2515929 ,  0.26446253,  0.27737611,  0.29033612,  0.30334508,\n",
       "          0.31640558,  0.32952028,  0.3426919 ,  0.35592325,  0.3692172 ,\n",
       "          0.38257674,  0.39600491,  0.40950487,  0.42307988,  0.43673331,\n",
       "          0.45046865,  0.4642895 ,  0.47819962,  0.49220289,  0.50630336,\n",
       "          0.52050522,  0.53481284,  0.5492308 ,  0.56376385,  0.57841696,\n",
       "          0.59319534,  0.60810442,  0.62314992,  0.63833783,  0.65367443,\n",
       "          0.66916635,  0.68482057,  0.70064443,  0.71664571,  0.73283263,\n",
       "          0.74921388,  0.76579869,  0.78259687,  0.79961884,  0.81687572,\n",
       "          0.83437937,  0.85214246,  0.87017859,  0.88850233,  0.90712937,\n",
       "          0.92607659,  0.94536226,  0.96500611,  0.98502958,  1.005456  ,\n",
       "          1.02631079,  1.04762177,  1.06941949,  1.09173755,  1.11461308,\n",
       "          1.13808725,  1.1622059 ,  1.18702027,  1.21258791,  1.2389738 ,\n",
       "          1.26625169,  1.29450578,  1.32383285,  1.35434495,  1.38617282,\n",
       "          1.41947039,  1.45442067,  1.49124379,  1.53020786,  1.57164427,\n",
       "          1.61596971,  1.66371874,  1.71559368,  1.77254445,  1.83590295,\n",
       "          1.90762425,  1.99075721,  2.09047253,  2.21670641,  2.39300644,\n",
       "          2.70235077]),\n",
       "  array([-3.97957167e+00, -2.39426674e+00, -1.74002534e+00, -1.67130685e+00,\n",
       "         -1.53500047e+00, -1.52802482e+00, -1.44851173e+00, -1.37773352e+00,\n",
       "         -1.30436970e+00, -1.11928635e+00, -1.10253515e+00, -1.06945005e+00,\n",
       "         -1.06482338e+00, -9.66228765e-01, -9.49676890e-01, -9.30576712e-01,\n",
       "         -8.95431902e-01, -8.92864944e-01, -8.73141410e-01, -8.59798506e-01,\n",
       "         -8.43265287e-01, -8.42046911e-01, -7.94270331e-01, -7.44652018e-01,\n",
       "         -7.44652018e-01, -7.24314808e-01, -7.02313575e-01, -6.83450037e-01,\n",
       "         -6.37003383e-01, -6.20470164e-01, -5.87385070e-01, -5.70633868e-01,\n",
       "         -5.51533691e-01, -4.97288703e-01, -4.48511730e-01, -4.27351837e-01,\n",
       "         -4.27351837e-01, -3.94266743e-01, -3.94266743e-01, -3.77733524e-01,\n",
       "         -2.91026799e-01, -2.74493580e-01, -2.74493580e-01, -2.74493580e-01,\n",
       "         -2.74493580e-01, -2.38860184e-01, -2.04320074e-01, -1.87786855e-01,\n",
       "         -1.87786855e-01, -1.71253636e-01, -1.71253636e-01, -1.71253636e-01,\n",
       "         -1.54720417e-01, -1.54720417e-01, -1.54720417e-01, -1.54720417e-01,\n",
       "         -1.54720417e-01, -1.54720417e-01, -1.54720417e-01, -1.54720417e-01,\n",
       "         -1.54720417e-01, -1.54720417e-01, -1.54720417e-01, -1.54720417e-01,\n",
       "         -1.54720417e-01, -1.54720417e-01, -1.54720417e-01, -1.54720417e-01,\n",
       "         -1.54720417e-01, -1.54720417e-01, -1.54701761e-01, -1.51530103e-01,\n",
       "         -1.38168542e-01, -1.38168542e-01, -1.38168542e-01, -1.21635324e-01,\n",
       "         -1.21635324e-01, -1.19068365e-01, -8.60019274e-02, -8.60019274e-02,\n",
       "         -8.60019274e-02, -8.60019274e-02, -8.60019274e-02, -8.25749727e-02,\n",
       "         -6.94687086e-02, -6.94687086e-02, -6.94500523e-02, -6.48233776e-02,\n",
       "         -6.48233776e-02, -4.82901588e-02, -2.91899815e-02, -1.26567627e-02,\n",
       "          3.87645608e-03,  3.87645608e-03,  1.72380165e-02,  1.72380165e-02,\n",
       "          1.72380165e-02,  3.37712353e-02,  3.37712353e-02,  3.37712353e-02,\n",
       "          3.37712353e-02,  3.37712353e-02,  3.37712353e-02,  3.37712353e-02,\n",
       "          3.37712353e-02,  3.37712353e-02,  3.37712353e-02,  3.37712353e-02,\n",
       "          3.81799263e-02,  4.82447379e-02,  5.03231104e-02,  5.47318014e-02,\n",
       "          5.49497851e-02,  6.68563292e-02,  6.68563292e-02,  7.14830039e-02,\n",
       "          7.14830039e-02,  7.14830039e-02,  7.14830039e-02,  7.14830039e-02,\n",
       "          7.14830039e-02,  8.80162227e-02,  1.04568098e-01,  1.06898416e-01,\n",
       "          1.37653192e-01,  1.40201494e-01,  1.56734713e-01,  1.56734713e-01,\n",
       "          1.56734713e-01,  1.86629492e-01,  1.91038183e-01,  1.91038183e-01,\n",
       "          2.05729669e-01,  2.05729669e-01,  2.05729669e-01,  2.22262888e-01,\n",
       "          2.22262888e-01,  2.22262888e-01,  2.22262888e-01,  2.43441438e-01,\n",
       "          2.43441438e-01,  2.43441438e-01,  2.59974657e-01,  2.59974657e-01,\n",
       "          2.64383348e-01,  2.76507875e-01,  2.80916566e-01,  2.97686425e-01,\n",
       "          3.06421311e-01,  3.14219644e-01,  3.28693147e-01,  3.39487749e-01,\n",
       "          3.43896440e-01,  4.08206239e-01,  4.15163232e-01,  4.29366132e-01,\n",
       "          4.36341782e-01,  4.39750080e-01,  4.48466309e-01,  4.48466309e-01,\n",
       "          4.82769780e-01,  4.94912964e-01,  4.99302998e-01,  4.99321655e-01,\n",
       "          5.03711689e-01,  5.36796783e-01,  5.56114944e-01,  5.82712975e-01,\n",
       "          6.42585029e-01,  6.52161255e-01,  7.08973201e-01,  7.08973201e-01,\n",
       "          7.08973201e-01,  7.25506420e-01,  7.25506420e-01,  7.25506420e-01,\n",
       "          7.37431620e-01,  7.54182823e-01,  7.61139816e-01,  7.79751407e-01,\n",
       "          7.79751407e-01,  8.08916396e-01,  8.11976505e-01,  8.24119689e-01,\n",
       "          8.31095339e-01,  8.85321670e-01,  8.97464854e-01,  8.97464854e-01,\n",
       "          9.13998073e-01,  9.51709841e-01,  9.51709841e-01,  1.00708543e+00,\n",
       "          1.05473180e+00,  1.14020149e+00,  1.15465634e+00,  1.15673471e+00,\n",
       "          1.22802016e+00,  1.43720178e+00,  1.46293981e+00,  1.68456509e+00,\n",
       "          2.18897847e+00])),\n",
       " (np.float64(0.6694819177852214),\n",
       "  np.float64(-2.639296362734207e-15),\n",
       "  np.float64(0.9551041776838121)))"
      ]
     },
     "execution_count": 27,
     "metadata": {},
     "output_type": "execute_result"
    },
    {
     "data": {
      "image/png": "[encoded data removed]",
      "text/plain": [
       "<Figure size 640x480 with 1 Axes>"
      ]
     },
     "metadata": {},
     "output_type": "display_data"
    }
   ],
   "source": [
    "sts.probplot(lin_reg_2.resid , dist=\"norm\", plot=plt)"
   ]
  },
  {
   "cell_type": "markdown",
   "id": "cb7fa545-ccc1-496d-a82d-3bff1aa31f0f",
   "metadata": {},
   "source": [
    "##### Assess your model's F-test and T-tests.\n",
    "* Which variables are significant? Based on what assessment?\n",
    "  \n",
    "Answer: Looks like attitude1_01, Attiture1_02, peruse01, & satis01 are significant based on the fact that the p-value is less than 0.05. Peruse02 is not significant.\n",
    "\n",
    "  * Choose two significant variables. From a business perspective, why are they significant?\n",
    "\n",
    "    \n",
    "Answer: peruse01 & satis01. These appear to have the highest t-value and lowest p-value. They are statistically significant. Direct changes to those will directly impact intent1_01.\n",
    "\n",
    "* Provide the equation for your model and interpret the results."
   ]
  },
  {
   "cell_type": "code",
   "execution_count": 28,
   "id": "775ffaf8-205a-4d84-86cc-70e446a4732c",
   "metadata": {},
   "outputs": [
    {
     "data": {
      "text/html": [
       "<table class=\"simpletable\">\n",
       "<caption>OLS Regression Results</caption>\n",
       "<tr>\n",
       "  <th>Dep. Variable:</th>       <td>intent1_01</td>    <th>  R-squared:         </th> <td>   0.536</td>\n",
       "</tr>\n",
       "<tr>\n",
       "  <th>Model:</th>                   <td>OLS</td>       <th>  Adj. R-squared:    </th> <td>   0.524</td>\n",
       "</tr>\n",
       "<tr>\n",
       "  <th>Method:</th>             <td>Least Squares</td>  <th>  F-statistic:       </th> <td>   45.01</td>\n",
       "</tr>\n",
       "<tr>\n",
       "  <th>Date:</th>             <td>Mon, 28 Apr 2025</td> <th>  Prob (F-statistic):</th> <td>9.38e-31</td>\n",
       "</tr>\n",
       "<tr>\n",
       "  <th>Time:</th>                 <td>22:03:22</td>     <th>  Log-Likelihood:    </th> <td> -211.54</td>\n",
       "</tr>\n",
       "<tr>\n",
       "  <th>No. Observations:</th>      <td>   201</td>      <th>  AIC:               </th> <td>   435.1</td>\n",
       "</tr>\n",
       "<tr>\n",
       "  <th>Df Residuals:</th>          <td>   195</td>      <th>  BIC:               </th> <td>   454.9</td>\n",
       "</tr>\n",
       "<tr>\n",
       "  <th>Df Model:</th>              <td>     5</td>      <th>                     </th>     <td> </td>   \n",
       "</tr>\n",
       "<tr>\n",
       "  <th>Covariance Type:</th>      <td>nonrobust</td>    <th>                     </th>     <td> </td>   \n",
       "</tr>\n",
       "</table>\n",
       "<table class=\"simpletable\">\n",
       "<tr>\n",
       "        <td></td>          <th>coef</th>     <th>std err</th>      <th>t</th>      <th>P>|t|</th>  <th>[0.025</th>    <th>0.975]</th>  \n",
       "</tr>\n",
       "<tr>\n",
       "  <th>Intercept</th>    <td>    0.9931</td> <td>    0.354</td> <td>    2.808</td> <td> 0.005</td> <td>    0.296</td> <td>    1.691</td>\n",
       "</tr>\n",
       "<tr>\n",
       "  <th>attitude1_01</th> <td>    0.3127</td> <td>    0.095</td> <td>    3.285</td> <td> 0.001</td> <td>    0.125</td> <td>    0.500</td>\n",
       "</tr>\n",
       "<tr>\n",
       "  <th>attitude1_02</th> <td>    0.1529</td> <td>    0.076</td> <td>    2.014</td> <td> 0.045</td> <td>    0.003</td> <td>    0.303</td>\n",
       "</tr>\n",
       "<tr>\n",
       "  <th>peruse01</th>     <td>    0.2427</td> <td>    0.072</td> <td>    3.374</td> <td> 0.001</td> <td>    0.101</td> <td>    0.385</td>\n",
       "</tr>\n",
       "<tr>\n",
       "  <th>peruse02</th>     <td>   -0.0165</td> <td>    0.066</td> <td>   -0.250</td> <td> 0.803</td> <td>   -0.147</td> <td>    0.114</td>\n",
       "</tr>\n",
       "<tr>\n",
       "  <th>satis01</th>      <td>    0.1885</td> <td>    0.056</td> <td>    3.378</td> <td> 0.001</td> <td>    0.078</td> <td>    0.299</td>\n",
       "</tr>\n",
       "</table>\n",
       "<table class=\"simpletable\">\n",
       "<tr>\n",
       "  <th>Omnibus:</th>       <td>62.562</td> <th>  Durbin-Watson:     </th> <td>   1.934</td>\n",
       "</tr>\n",
       "<tr>\n",
       "  <th>Prob(Omnibus):</th> <td> 0.000</td> <th>  Jarque-Bera (JB):  </th> <td> 299.131</td>\n",
       "</tr>\n",
       "<tr>\n",
       "  <th>Skew:</th>          <td>-1.101</td> <th>  Prob(JB):          </th> <td>1.11e-65</td>\n",
       "</tr>\n",
       "<tr>\n",
       "  <th>Kurtosis:</th>      <td> 8.556</td> <th>  Cond. No.          </th> <td>    94.8</td>\n",
       "</tr>\n",
       "</table><br/><br/>Notes:<br/>[1] Standard Errors assume that the covariance matrix of the errors is correctly specified."
      ],
      "text/latex": [
       "\\begin{center}\n",
       "\\begin{tabular}{lclc}\n",
       "\\toprule\n",
       "\\textbf{Dep. Variable:}    &   intent1\\_01    & \\textbf{  R-squared:         } &     0.536   \\\\\n",
       "\\textbf{Model:}            &       OLS        & \\textbf{  Adj. R-squared:    } &     0.524   \\\\\n",
       "\\textbf{Method:}           &  Least Squares   & \\textbf{  F-statistic:       } &     45.01   \\\\\n",
       "\\textbf{Date:}             & Mon, 28 Apr 2025 & \\textbf{  Prob (F-statistic):} &  9.38e-31   \\\\\n",
       "\\textbf{Time:}             &     22:03:22     & \\textbf{  Log-Likelihood:    } &   -211.54   \\\\\n",
       "\\textbf{No. Observations:} &         201      & \\textbf{  AIC:               } &     435.1   \\\\\n",
       "\\textbf{Df Residuals:}     &         195      & \\textbf{  BIC:               } &     454.9   \\\\\n",
       "\\textbf{Df Model:}         &           5      & \\textbf{                     } &             \\\\\n",
       "\\textbf{Covariance Type:}  &    nonrobust     & \\textbf{                     } &             \\\\\n",
       "\\bottomrule\n",
       "\\end{tabular}\n",
       "\\begin{tabular}{lcccccc}\n",
       "                       & \\textbf{coef} & \\textbf{std err} & \\textbf{t} & \\textbf{P$> |$t$|$} & \\textbf{[0.025} & \\textbf{0.975]}  \\\\\n",
       "\\midrule\n",
       "\\textbf{Intercept}     &       0.9931  &        0.354     &     2.808  &         0.005        &        0.296    &        1.691     \\\\\n",
       "\\textbf{attitude1\\_01} &       0.3127  &        0.095     &     3.285  &         0.001        &        0.125    &        0.500     \\\\\n",
       "\\textbf{attitude1\\_02} &       0.1529  &        0.076     &     2.014  &         0.045        &        0.003    &        0.303     \\\\\n",
       "\\textbf{peruse01}      &       0.2427  &        0.072     &     3.374  &         0.001        &        0.101    &        0.385     \\\\\n",
       "\\textbf{peruse02}      &      -0.0165  &        0.066     &    -0.250  &         0.803        &       -0.147    &        0.114     \\\\\n",
       "\\textbf{satis01}       &       0.1885  &        0.056     &     3.378  &         0.001        &        0.078    &        0.299     \\\\\n",
       "\\bottomrule\n",
       "\\end{tabular}\n",
       "\\begin{tabular}{lclc}\n",
       "\\textbf{Omnibus:}       & 62.562 & \\textbf{  Durbin-Watson:     } &    1.934  \\\\\n",
       "\\textbf{Prob(Omnibus):} &  0.000 & \\textbf{  Jarque-Bera (JB):  } &  299.131  \\\\\n",
       "\\textbf{Skew:}          & -1.101 & \\textbf{  Prob(JB):          } & 1.11e-65  \\\\\n",
       "\\textbf{Kurtosis:}      &  8.556 & \\textbf{  Cond. No.          } &     94.8  \\\\\n",
       "\\bottomrule\n",
       "\\end{tabular}\n",
       "%\\caption{OLS Regression Results}\n",
       "\\end{center}\n",
       "\n",
       "Notes: \\newline\n",
       " [1] Standard Errors assume that the covariance matrix of the errors is correctly specified."
      ],
      "text/plain": [
       "<class 'statsmodels.iolib.summary.Summary'>\n",
       "\"\"\"\n",
       "                            OLS Regression Results                            \n",
       "==============================================================================\n",
       "Dep. Variable:             intent1_01   R-squared:                       0.536\n",
       "Model:                            OLS   Adj. R-squared:                  0.524\n",
       "Method:                 Least Squares   F-statistic:                     45.01\n",
       "Date:                Mon, 28 Apr 2025   Prob (F-statistic):           9.38e-31\n",
       "Time:                        22:03:22   Log-Likelihood:                -211.54\n",
       "No. Observations:                 201   AIC:                             435.1\n",
       "Df Residuals:                     195   BIC:                             454.9\n",
       "Df Model:                           5                                         \n",
       "Covariance Type:            nonrobust                                         \n",
       "================================================================================\n",
       "                   coef    std err          t      P>|t|      [0.025      0.975]\n",
       "--------------------------------------------------------------------------------\n",
       "Intercept        0.9931      0.354      2.808      0.005       0.296       1.691\n",
       "attitude1_01     0.3127      0.095      3.285      0.001       0.125       0.500\n",
       "attitude1_02     0.1529      0.076      2.014      0.045       0.003       0.303\n",
       "peruse01         0.2427      0.072      3.374      0.001       0.101       0.385\n",
       "peruse02        -0.0165      0.066     -0.250      0.803      -0.147       0.114\n",
       "satis01          0.1885      0.056      3.378      0.001       0.078       0.299\n",
       "==============================================================================\n",
       "Omnibus:                       62.562   Durbin-Watson:                   1.934\n",
       "Prob(Omnibus):                  0.000   Jarque-Bera (JB):              299.131\n",
       "Skew:                          -1.101   Prob(JB):                     1.11e-65\n",
       "Kurtosis:                       8.556   Cond. No.                         94.8\n",
       "==============================================================================\n",
       "\n",
       "Notes:\n",
       "[1] Standard Errors assume that the covariance matrix of the errors is correctly specified.\n",
       "\"\"\""
      ]
     },
     "execution_count": 28,
     "metadata": {},
     "output_type": "execute_result"
    }
   ],
   "source": [
    "lin_reg_2 = smf.ols('intent1_01 ~ attitude1_01 + attitude1_02 + peruse01 + peruse02 + satis01', ect_data).fit()\n",
    "\n",
    "lin_reg_2.summary()"
   ]
  }
 ],
 "metadata": {
  "kernelspec": {
   "display_name": "Python 3 (ipykernel)",
   "language": "python",
   "name": "python3"
  },
  "language_info": {
   "codemirror_mode": {
    "name": "ipython",
    "version": 3
   },
   "file_extension": ".py",
   "mimetype": "text/x-python",
   "name": "python",
   "nbconvert_exporter": "python",
   "pygments_lexer": "ipython3",
   "version": "3.13.2"
  }
 },
 "nbformat": 4,
 "nbformat_minor": 5
}
